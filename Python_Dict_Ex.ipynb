{
 "cells": [
  {
   "attachments": {
    "python-removebg-preview.webp": {
     "image/webp": "[encoded data removed]"
    }
   },
   "cell_type": "markdown",
   "id": "ec5f606a",
   "metadata": {},
   "source": [
    "# Python Dictionary Exercises\n",
    "![python-removebg-preview.webp](attachment:python-removebg-preview.webp)"
   ]
  },
  {
   "cell_type": "code",
   "execution_count": 219,
   "id": "c419b8e4",
   "metadata": {},
   "outputs": [
    {
     "name": "stdout",
     "output_type": "stream",
     "text": [
      "62\n",
      "{'Guln': 'Gulnar Kurbetli', 'Keya': 'Keyanna Drakes', 'Kowc': 'Kowcika Asaithambi', 'Mehr': 'Mehrnaz Hooshmand', 'Mela': 'Melanie Sagala', 'Prit': 'Pritesh Bhimani', 'Rich': 'Richard Ammah', 'Saud': 'Saudia Rahamat', 'Shan': 'Shane Lyons', 'Kame': 'Kameela Abdi', 'Olus': 'Olusegun Adebayo Adeokun', 'Chri': 'Christianah Adeoya', 'Risp': 'Rispa Adjei', 'Abdu': 'Abdullah Ba haj', 'Arvi': 'Arvishkumar Barot', 'Yahy': 'Yahya Darman', 'ramy': 'ramya Duraisamy', 'Vale': 'Valentina Egorova', 'Nurc': 'Nurcin Eroglu', 'Femi': 'Femi Felix', 'Sris': 'Srishti Garg', 'Nath': 'Nathan Gaynor', 'Devi': 'Devinder Singh Gullia', 'Fath': 'Fathima Sanjeedha Haja Nazirudeen', 'Kai ': 'Kai Hung Ho', 'Md S': 'Md Shaharuf Hossain', 'Said': 'Said Huner', 'Rajb': 'Rajbir Kaur', 'Kono': 'Konomi Kohara', 'Cheu': 'Cheuk Yiu Lee', 'Step': 'Stephen Chung Lui', 'Lax ': 'Lax Maliekal Thomas', 'Moho': 'Mohomed Naushard Mohomed Simak', 'Zeba': 'Zeba Moti', 'Dore': 'Doreen Namayanja', 'Y Ng': 'Y Nguyen', 'Aish': 'Aisha Osman', 'Aaka': 'Aakanksha Pandey', 'Bhau': 'Bhaumik Patel', 'Jank': 'Jankiben Darshankumar Patel', 'Mahe': 'Mahejabin Patel', 'Vu N': 'Vu Nhu Ngoc Phan', 'Resh': 'Reshma Pradeep Kumar', 'Jay ': 'Jay Prajapati', 'Niti': 'Nitish Puri', 'Ohoo': 'Ohood Qeshawi', 'Nilo': 'Niloufar Rahmani', 'Meri': 'Merin Raju', 'Sadh': 'Sadhna Rana', 'Gurk': 'Gurkirat Randhawa', 'Roya': 'Roya Roozegarian', 'Fati': 'Fatima Safdar', 'Leil': 'Leila Said', 'Snoo': 'Snoor Salihi', 'Srav': 'Sravani Simhadri1', 'Anja': 'Anjani Sirivella', 'Suja': 'Suja Subramanian', 'Jeff': 'Jefferson Tedeschi', 'Domi': 'Dominic Uloghobui1', 'Rona': 'Ronak Vohra', 'Yuan': 'Yuangang Yang', 'Bets': 'Betsy Biqiao Zhang'}\n"
     ]
    }
   ],
   "source": [
    "#Q1 Create a dictionary for all participants in the JDA program.\n",
    "#Keys should be the first letter in their names, Values should be their names.\n",
    "#[Hint] dic={\"l\":(Leul),\"J\":(Jerry,Jainam)........}\n",
    "student = ['Gulnar Kurbetli','Keyanna Drakes','Kowcika Asaithambi','Mehrnaz Hooshmand','Melanie Sagala',\\\n",
    "           'Pritesh Bhimani','Richard Ammah','Saudia Rahamat','Shane Lyons',\\\n",
    "           'Kameela Abdi','Olusegun Adebayo Adeokun','Christianah Adeoya','Rispa Adjei','Abdullah Ba haj',\\\n",
    "           'Arvishkumar Barot','Yahya Darman','ramya Duraisamy','Valentina Egorova','Nurcin Eroglu',\\\n",
    "          'Femi Felix','Srishti Garg','Nathan Gaynor','Devinder Singh Gullia','Fathima Sanjeedha Haja Nazirudeen',\\\n",
    "          'Kai Hung Ho','Md Shaharuf Hossain','Said Huner','Rajbir Kaur','Konomi Kohara','Cheuk Yiu Lee',\\\n",
    "           'Stephen Chung Lui','Lax Maliekal Thomas','Mohomed Naushard Mohomed Simak','Zeba Moti','Doreen Namayanja',\\\n",
    "          'Y Nguyen','Aisha Osman','Aakanksha Pandey','Bhaumik Patel','Jankiben Darshankumar Patel',\\\n",
    "           'Mahejabin Patel','Vu Nhu Ngoc Phan','Reshma Pradeep Kumar','Jay Prajapati','Nitish Puri','Ohood Qeshawi',\\\n",
    "           'Niloufar Rahmani','Merin Raju','Sadhna Rana','Gurkirat Randhawa','Roya Roozegarian','Fatima Safdar',\\\n",
    "           'Leila Said','Snoor Salihi','Sravani Simhadri1','Anjani Sirivella','Suja Subramanian','Jefferson Tedeschi',\\\n",
    "          'Dominic Uloghobui1','Ronak Vohra','Yuangang Yang','Betsy Biqiao Zhang']\n",
    " \n",
    "dic ={}\n",
    "for stud in student:\n",
    "    dic[stud[0:4]] = stud\n",
    "\n",
    "# key with first letter of name cannot be as identity due to records of some students with same keys are overwitten.\n",
    "# Key must be at least first 4 letter can be identity all participants in Teams 5 of JDA\n",
    "print(len(dic))\n",
    "print(dic)"
   ]
  },
  {
   "cell_type": "code",
   "execution_count": 220,
   "id": "7dbc1ff0",
   "metadata": {},
   "outputs": [
    {
     "data": {
      "text/plain": [
       "dict_keys(['Guln', 'Keya', 'Kowc', 'Mehr', 'Mela', 'Prit', 'Rich', 'Saud', 'Shan', 'Kame', 'Olus', 'Chri', 'Risp', 'Abdu', 'Arvi', 'Yahy', 'ramy', 'Vale', 'Nurc', 'Femi', 'Sris', 'Nath', 'Devi', 'Fath', 'Kai ', 'Md S', 'Said', 'Rajb', 'Kono', 'Cheu', 'Step', 'Lax ', 'Moho', 'Zeba', 'Dore', 'Y Ng', 'Aish', 'Aaka', 'Bhau', 'Jank', 'Mahe', 'Vu N', 'Resh', 'Jay ', 'Niti', 'Ohoo', 'Nilo', 'Meri', 'Sadh', 'Gurk', 'Roya', 'Fati', 'Leil', 'Snoo', 'Srav', 'Anja', 'Suja', 'Jeff', 'Domi', 'Rona', 'Yuan', 'Bets'])"
      ]
     },
     "execution_count": 220,
     "metadata": {},
     "output_type": "execute_result"
    }
   ],
   "source": [
    "#Q2 What are the keys of your dictionary\n",
    "dic.keys()"
   ]
  },
  {
   "cell_type": "code",
   "execution_count": 221,
   "id": "9493db59",
   "metadata": {},
   "outputs": [
    {
     "data": {
      "text/plain": [
       "dict_values(['Gulnar Kurbetli', 'Keyanna Drakes', 'Kowcika Asaithambi', 'Mehrnaz Hooshmand', 'Melanie Sagala', 'Pritesh Bhimani', 'Richard Ammah', 'Saudia Rahamat', 'Shane Lyons', 'Kameela Abdi', 'Olusegun Adebayo Adeokun', 'Christianah Adeoya', 'Rispa Adjei', 'Abdullah Ba haj', 'Arvishkumar Barot', 'Yahya Darman', 'ramya Duraisamy', 'Valentina Egorova', 'Nurcin Eroglu', 'Femi Felix', 'Srishti Garg', 'Nathan Gaynor', 'Devinder Singh Gullia', 'Fathima Sanjeedha Haja Nazirudeen', 'Kai Hung Ho', 'Md Shaharuf Hossain', 'Said Huner', 'Rajbir Kaur', 'Konomi Kohara', 'Cheuk Yiu Lee', 'Stephen Chung Lui', 'Lax Maliekal Thomas', 'Mohomed Naushard Mohomed Simak', 'Zeba Moti', 'Doreen Namayanja', 'Y Nguyen', 'Aisha Osman', 'Aakanksha Pandey', 'Bhaumik Patel', 'Jankiben Darshankumar Patel', 'Mahejabin Patel', 'Vu Nhu Ngoc Phan', 'Reshma Pradeep Kumar', 'Jay Prajapati', 'Nitish Puri', 'Ohood Qeshawi', 'Niloufar Rahmani', 'Merin Raju', 'Sadhna Rana', 'Gurkirat Randhawa', 'Roya Roozegarian', 'Fatima Safdar', 'Leila Said', 'Snoor Salihi', 'Sravani Simhadri1', 'Anjani Sirivella', 'Suja Subramanian', 'Jefferson Tedeschi', 'Dominic Uloghobui1', 'Ronak Vohra', 'Yuangang Yang', 'Betsy Biqiao Zhang'])"
      ]
     },
     "execution_count": 221,
     "metadata": {},
     "output_type": "execute_result"
    }
   ],
   "source": [
    "#Q3 What are the values of your dictionary\n",
    "dic.values()"
   ]
  },
  {
   "cell_type": "code",
   "execution_count": 222,
   "id": "69d33907",
   "metadata": {},
   "outputs": [
    {
     "name": "stdout",
     "output_type": "stream",
     "text": [
      "\tParticipant's names:\n"
     ]
    },
    {
     "data": {
      "text/plain": [
       "{'Mehr': 'Mehrnaz Hooshmand',\n",
       " 'Mela': 'Melanie Sagala',\n",
       " 'Chri': 'Christianah Adeoya',\n",
       " 'Abdu': 'Abdullah Ba haj',\n",
       " 'Arvi': 'Arvishkumar Barot',\n",
       " 'Md S': 'Md Shaharuf Hossain',\n",
       " 'Cheu': 'Cheuk Yiu Lee',\n",
       " 'Moho': 'Mohomed Naushard Mohomed Simak',\n",
       " 'Aish': 'Aisha Osman',\n",
       " 'Aaka': 'Aakanksha Pandey',\n",
       " 'Jank': 'Jankiben Darshankumar Patel',\n",
       " 'Mahe': 'Mahejabin Patel',\n",
       " 'Jay ': 'Jay Prajapati',\n",
       " 'Meri': 'Merin Raju',\n",
       " 'Anja': 'Anjani Sirivella',\n",
       " 'Jeff': 'Jefferson Tedeschi'}"
      ]
     },
     "execution_count": 222,
     "metadata": {},
     "output_type": "execute_result"
    }
   ],
   "source": [
    "#Q4 Find participant's names that start with J,I,M,C,A\n",
    "\n",
    "print(\"\\tParticipant's names:\")\n",
    "dic1={}\n",
    "for k,v in dic.items():\n",
    "    if k[0] in [\"J\",\"I\",\"M\",\"C\",\"A\"]:\n",
    "        dic1[k]= v\n",
    "dic1        "
   ]
  },
  {
   "cell_type": "code",
   "execution_count": 223,
   "id": "7145aa47",
   "metadata": {},
   "outputs": [
    {
     "data": {
      "text/plain": [
       "{'Guln': 'Gulnar Kurbetli',\n",
       " 'Keya': 'Keyanna Drakes',\n",
       " 'Kowc': 'Kowcika Asaithambi',\n",
       " 'Mehr': 'Mehrnaz Hooshmand',\n",
       " 'Mela': 'Melanie Sagala',\n",
       " 'Prit': 'Pritesh Bhimani',\n",
       " 'Rich': 'Richard Ammah',\n",
       " 'Saud': 'Saudia Rahamat',\n",
       " 'Shan': 'Shane Lyons',\n",
       " 'Kame': 'Kameela Abdi',\n",
       " 'Olus': 'Olusegun Adebayo Adeokun',\n",
       " 'Chri': 'Christianah Adeoya',\n",
       " 'Risp': 'Rispa Adjei',\n",
       " 'Abdu': 'Abdullah Ba haj',\n",
       " 'Arvi': 'Arvishkumar Barot',\n",
       " 'Yahy': 'Yahya Darman',\n",
       " 'ramy': 'ramya Duraisamy',\n",
       " 'Vale': 'Valentina Egorova',\n",
       " 'Nurc': 'Nurcin Eroglu',\n",
       " 'Femi': 'Femi Felix',\n",
       " 'Sris': 'Srishti Garg',\n",
       " 'Nath': 'Nathan Gaynor',\n",
       " 'Devi': 'Devinder Singh Gullia',\n",
       " 'Fath': 'Fathima Sanjeedha Haja Nazirudeen',\n",
       " 'Kai ': 'Kai Hung Ho',\n",
       " 'Md S': 'Md Shaharuf Hossain',\n",
       " 'Said': 'Said Huner',\n",
       " 'Rajb': 'Rajbir Kaur',\n",
       " 'Kono': 'Konomi Kohara',\n",
       " 'Cheu': 'Cheuk Yiu Lee',\n",
       " 'Step': 'Stephen Chung Lui',\n",
       " 'Lax ': 'Lax Maliekal Thomas',\n",
       " 'Moho': 'Mohomed Naushard Mohomed Simak',\n",
       " 'Zeba': 'Zeba Moti',\n",
       " 'Dore': 'Doreen Namayanja',\n",
       " 'Y Ng': 'Y Nguyen',\n",
       " 'Aish': 'Aisha Osman',\n",
       " 'Aaka': 'Aakanksha Pandey',\n",
       " 'Bhau': 'Bhaumik Patel',\n",
       " 'Jank': 'Jankiben Darshankumar Patel',\n",
       " 'Mahe': 'Mahejabin Patel',\n",
       " 'Vu N': 'Vu Nhu Ngoc Phan',\n",
       " 'Resh': 'Reshma Pradeep Kumar',\n",
       " 'Jay ': 'Jay Prajapati',\n",
       " 'Niti': 'Nitish Puri',\n",
       " 'Ohoo': 'Ohood Qeshawi',\n",
       " 'Nilo': 'Niloufar Rahmani',\n",
       " 'Meri': 'Merin Raju',\n",
       " 'Sadh': 'Sadhna Rana',\n",
       " 'Gurk': 'Gurkirat Randhawa',\n",
       " 'Roya': 'Roya Roozegarian',\n",
       " 'Fati': 'Fatima Safdar',\n",
       " 'Leil': 'Leila Said',\n",
       " 'Snoo': 'Snoor Salihi',\n",
       " 'Srav': 'Sravani Simhadri1',\n",
       " 'Anja': 'Anjani Sirivella',\n",
       " 'Suja': 'Suja Subramanian',\n",
       " 'Jeff': 'Jefferson Tedeschi',\n",
       " 'Domi': 'Dominic Uloghobui1',\n",
       " 'Rona': 'Ronak Vohra',\n",
       " 'Yuan': 'Yuangang Yang',\n",
       " 'Bets': 'Betsy Biqiao Zhang',\n",
       " 'K,PD': 'Kristina'}"
      ]
     },
     "execution_count": 223,
     "metadata": {},
     "output_type": "execute_result"
    }
   ],
   "source": [
    "#Q5 Add the following to your dictionary\n",
    "# Key<(K,PD)>, Value<(K.upristina)>\n",
    "dic.update({\"K,PD\":\"Kristina\"})\n",
    "dic"
   ]
  },
  {
   "cell_type": "code",
   "execution_count": 224,
   "id": "658e865d",
   "metadata": {},
   "outputs": [
    {
     "data": {
      "text/plain": [
       "63"
      ]
     },
     "execution_count": 224,
     "metadata": {},
     "output_type": "execute_result"
    }
   ],
   "source": [
    "#Q6 Find the length of your dictionary\n",
    "len(dic)"
   ]
  },
  {
   "cell_type": "code",
   "execution_count": 225,
   "id": "de7f0d6d",
   "metadata": {},
   "outputs": [
    {
     "data": {
      "text/plain": [
       "{'Guln': 'Gulnar Kurbetli',\n",
       " 'Keya': 'Keyanna Drakes',\n",
       " 'Kowc': 'Kowcika Asaithambi',\n",
       " 'Mehr': 'Mehrnaz Hooshmand',\n",
       " 'Mela': 'Melanie Sagala',\n",
       " 'Prit': 'Pritesh Bhimani',\n",
       " 'Rich': 'Richard Ammah',\n",
       " 'Saud': 'Saudia Rahamat',\n",
       " 'Shan': 'Shane Lyons',\n",
       " 'Kame': 'Kameela Abdi',\n",
       " 'Olus': 'Olusegun Adebayo Adeokun',\n",
       " 'Chri': 'Christianah Adeoya',\n",
       " 'Risp': 'Rispa Adjei',\n",
       " 'Abdu': 'Abdullah Ba haj',\n",
       " 'Arvi': 'Arvishkumar Barot',\n",
       " 'Yahy': 'Yahya Darman',\n",
       " 'ramy': 'ramya Duraisamy',\n",
       " 'Vale': 'Valentina Egorova',\n",
       " 'Nurc': 'Nurcin Eroglu',\n",
       " 'Femi': 'Femi Felix',\n",
       " 'Sris': 'Srishti Garg',\n",
       " 'Nath': 'Nathan Gaynor',\n",
       " 'Devi': 'Devinder Singh Gullia',\n",
       " 'Fath': 'Fathima Sanjeedha Haja Nazirudeen',\n",
       " 'Kai ': 'Kai Hung Ho',\n",
       " 'Md S': 'Md Shaharuf Hossain',\n",
       " 'Said': 'Said Huner',\n",
       " 'Rajb': 'Rajbir Kaur',\n",
       " 'Kono': 'Konomi Kohara',\n",
       " 'Cheu': 'Cheuk Yiu Lee',\n",
       " 'Step': 'Stephen Chung Lui',\n",
       " 'Lax ': 'Lax Maliekal Thomas',\n",
       " 'Moho': 'Mohomed Naushard Mohomed Simak',\n",
       " 'Zeba': 'Zeba Moti',\n",
       " 'Dore': 'Doreen Namayanja',\n",
       " 'Y Ng': 'Y Nguyen',\n",
       " 'Aish': 'Aisha Osman',\n",
       " 'Aaka': 'Aakanksha Pandey',\n",
       " 'Bhau': 'Bhaumik Patel',\n",
       " 'Jank': 'Jankiben Darshankumar Patel',\n",
       " 'Mahe': 'Mahejabin Patel',\n",
       " 'Vu N': 'Vu Nhu Ngoc Phan',\n",
       " 'Resh': 'Reshma Pradeep Kumar',\n",
       " 'Jay ': 'Jay Prajapati',\n",
       " 'Niti': 'Nitish Puri',\n",
       " 'Ohoo': 'Ohood Qeshawi',\n",
       " 'Nilo': 'Niloufar Rahmani',\n",
       " 'Meri': 'Merin Raju',\n",
       " 'Sadh': 'Sadhna Rana',\n",
       " 'Gurk': 'Gurkirat Randhawa',\n",
       " 'Roya': 'Roya Roozegarian',\n",
       " 'Fati': 'Fatima Safdar',\n",
       " 'Leil': 'Leila Said',\n",
       " 'Snoo': 'Snoor Salihi',\n",
       " 'Srav': 'Sravani Simhadri1',\n",
       " 'Anja': 'Anjani Sirivella',\n",
       " 'Suja': 'Suja Subramanian',\n",
       " 'Jeff': 'Jefferson Tedeschi',\n",
       " 'Domi': 'Dominic Uloghobui1',\n",
       " 'Rona': 'Ronak Vohra',\n",
       " 'Yuan': 'Yuangang Yang',\n",
       " 'Bets': 'Betsy Biqiao Zhang',\n",
       " 'K,PD': 'Kristina',\n",
       " 'S,Instructor': 'Sarah'}"
      ]
     },
     "execution_count": 225,
     "metadata": {},
     "output_type": "execute_result"
    }
   ],
   "source": [
    "#Q7 Add the following to your dictionary\n",
    "dic['S,Instructor']='Sarah'\n",
    "dic"
   ]
  },
  {
   "cell_type": "code",
   "execution_count": 226,
   "id": "ba2cf54e",
   "metadata": {},
   "outputs": [
    {
     "data": {
      "text/plain": [
       "64"
      ]
     },
     "execution_count": 226,
     "metadata": {},
     "output_type": "execute_result"
    }
   ],
   "source": [
    "#Q8 Find the length of your dictionary\n",
    "len(dic)\n"
   ]
  },
  {
   "cell_type": "code",
   "execution_count": 216,
   "id": "1da00144",
   "metadata": {},
   "outputs": [
    {
     "data": {
      "text/plain": [
       "'Kristina'"
      ]
     },
     "execution_count": 216,
     "metadata": {},
     "output_type": "execute_result"
    }
   ],
   "source": [
    "#Q8.1 Delete the following keys from your dictionary\n",
    "#Key<(S,Instructor)>\n",
    "#Key<J>\n",
    "\n",
    "#dic.pop(\"S,Instructor\")\n",
    "#dic.update()\n",
    "dic.pop(\"K,PD\")\n",
    "\n",
    "#for k,v in dic.items():\n",
    "    \n",
    "#    if k[0] in [\"J\"]:\n",
    "#        dic.pop(k)\n",
    "#       dic.update()\n",
    "\n",
    "\n"
   ]
  },
  {
   "cell_type": "code",
   "execution_count": 227,
   "id": "8c18976d",
   "metadata": {},
   "outputs": [
    {
     "data": {
      "text/plain": [
       "64"
      ]
     },
     "execution_count": 227,
     "metadata": {},
     "output_type": "execute_result"
    }
   ],
   "source": [
    "#Q9 Find the length of your dictionary\n",
    "len(dic)"
   ]
  },
  {
   "cell_type": "code",
   "execution_count": 229,
   "id": "d99312f8",
   "metadata": {},
   "outputs": [
    {
     "data": {
      "text/plain": [
       "dict"
      ]
     },
     "execution_count": 229,
     "metadata": {},
     "output_type": "execute_result"
    }
   ],
   "source": [
    "#Q10 Create a new dictionary called synonyms_dic\n",
    "synonyms_dic = {}\n",
    "type(synonyms_dic)"
   ]
  },
  {
   "cell_type": "code",
   "execution_count": 275,
   "id": "5f6fbaef",
   "metadata": {},
   "outputs": [
    {
     "data": {
      "text/plain": [
       "{'Bad': 'Poor',\n",
       " 'Good': 'Fine',\n",
       " 'Awesome': 'Stunning',\n",
       " 'Cold': 'Cool',\n",
       " 'Easy': 'Simple',\n",
       " 'Hard': 'Rigid',\n",
       " 'Big': 'Huge',\n",
       " 'Small': 'Tiny'}"
      ]
     },
     "execution_count": 275,
     "metadata": {},
     "output_type": "execute_result"
    }
   ],
   "source": [
    "#Q11 Add the synonyms of the following words to your dictionary\n",
    "#Bad, Good, Awesome, Cold, Easy, Hard, Big, Small\n",
    "synonyms_dic = {'Bad':'Poor','Good':'Fine','Awesome':'Stunning',\\\n",
    "                'Cold':'Cool','Easy':'Simple','Hard':'Rigid','Big':'Huge','Small':'Tiny'}\n",
    "synonyms_dic"
   ]
  },
  {
   "cell_type": "code",
   "execution_count": 276,
   "id": "cdf7f77d",
   "metadata": {},
   "outputs": [
    {
     "name": "stdout",
     "output_type": "stream",
     "text": [
      "Stunning\n",
      "Simple\n",
      "Tiny\n",
      "None\n"
     ]
    }
   ],
   "source": [
    "#Q12 Use your dictionary to find the synonym of the following words\n",
    "# Awesome, Easy, Small, Old\n",
    "for words in ['Awesome', 'Easy', 'Small', 'Old']:\n",
    "    print(synonyms_dic.get(words))\n"
   ]
  },
  {
   "cell_type": "code",
   "execution_count": 277,
   "id": "eea5609f",
   "metadata": {},
   "outputs": [],
   "source": [
    "#Q13 Delete everything from synonyms_dic\n",
    "synonyms_dic.clear()\n",
    "    "
   ]
  },
  {
   "cell_type": "code",
   "execution_count": 278,
   "id": "e37f7f75",
   "metadata": {},
   "outputs": [
    {
     "name": "stdout",
     "output_type": "stream",
     "text": [
      "dict_values([])\n"
     ]
    }
   ],
   "source": [
    "#Q14 Print all values in synonyms_dic\n",
    "print(synonyms_dic.values())"
   ]
  },
  {
   "cell_type": "code",
   "execution_count": 284,
   "id": "f24471ca",
   "metadata": {},
   "outputs": [
    {
     "data": {
      "text/plain": [
       "{'True': 1, 'False': 0}"
      ]
     },
     "execution_count": 284,
     "metadata": {},
     "output_type": "execute_result"
    }
   ],
   "source": [
    "#Q15 Convert the below two lists into dictionary\n",
    "Keys = [\"True\",\"False\"]\n",
    "Values = [1,0]\n",
    "\n",
    "dic2 = dict(zip(Keys,Values)) \n",
    "    \n",
    "dic2"
   ]
  },
  {
   "cell_type": "code",
   "execution_count": 291,
   "id": "b6dd0c50",
   "metadata": {},
   "outputs": [
    {
     "data": {
      "text/plain": [
       "4480"
      ]
     },
     "execution_count": 291,
     "metadata": {},
     "output_type": "execute_result"
    }
   ],
   "source": [
    "#Q16 Sum all the values in the following dictionary\n",
    "income={'Jan':1000,'Feb':1500,'Mar':980,'April':1000}\n",
    "sum(income.values())\n"
   ]
  },
  {
   "cell_type": "code",
   "execution_count": 8,
   "id": "1fef965e",
   "metadata": {},
   "outputs": [
    {
     "name": "stdout",
     "output_type": "stream",
     "text": [
      "The decrption words is  I am hungry and I want food now \n"
     ]
    }
   ],
   "source": [
    "#Q17 Create the following dictionary encryption={10:\"hungry\",101:\"am\",110:\"I\",1011:\"and\",1001:\"want\",11011:\"now\",1101:\"food\"}\n",
    "# What should be the decryption of the following code \"110 101 10 1011 110 1001 1101 11011\"\n",
    "\n",
    "encryption={10:\"hungry\", 101:\"am\", 1001:\"want\",1101:\"food\",110:\"I\",1011:\"and\", 11011:\"now\"}\n",
    "keys=[110, 101, 10, 1011, 110, 1001, 1101, 11011]\n",
    "\n",
    "words =\"\"\n",
    "for idx in keys:\n",
    "    words += encryption[idx] + \" \"\n",
    "\n",
    "print(\"The decrption words is \",words)    \n"
   ]
  },
  {
   "cell_type": "code",
   "execution_count": null,
   "id": "a3b61bad",
   "metadata": {},
   "outputs": [],
   "source": []
  }
 ],
 "metadata": {
  "kernelspec": {
   "display_name": "Python 3 (ipykernel)",
   "language": "python",
   "name": "python3"
  },
  "language_info": {
   "codemirror_mode": {
    "name": "ipython",
    "version": 3
   },
   "file_extension": ".py",
   "mimetype": "text/x-python",
   "name": "python",
   "nbconvert_exporter": "python",
   "pygments_lexer": "ipython3",
   "version": "3.9.13"
  }
 },
 "nbformat": 4,
 "nbformat_minor": 5
}
