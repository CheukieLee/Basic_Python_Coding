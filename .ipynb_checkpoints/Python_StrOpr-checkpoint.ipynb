{
 "cells": [
  {
   "attachments": {
    "python-removebg-preview.webp": {
     "image/webp": "[encoded data removed]"
    }
   },
   "cell_type": "markdown",
   "id": "8fe14c59",
   "metadata": {},
   "source": [
    "# Python_String_Operator\n",
    "![python-removebg-preview.webp](attachment:python-removebg-preview.webp)"
   ]
  },
  {
   "cell_type": "code",
   "execution_count": 2,
   "id": "d2ad1cc7",
   "metadata": {},
   "outputs": [],
   "source": [
    "# Question 1\n",
    "# Which of the following statements are true?\n",
    "# True : c) can include letters, digits, special characters, and spaces"
   ]
  },
  {
   "cell_type": "code",
   "execution_count": 6,
   "id": "fc51621d",
   "metadata": {},
   "outputs": [
    {
     "name": "stdout",
     "output_type": "stream",
     "text": [
      "5\n",
      "11\n"
     ]
    }
   ],
   "source": [
    "# Question 2\n",
    "# A)\n",
    "POPSTAR = \"DRIZZY DRAKE\"\n",
    "print(POPSTAR.find(\"Y\"))\n",
    "print(POPSTAR.find(\"E\"))"
   ]
  },
  {
   "cell_type": "code",
   "execution_count": 7,
   "id": "03695565",
   "metadata": {},
   "outputs": [
    {
     "data": {
      "text/plain": [
       "'Z'"
      ]
     },
     "execution_count": 7,
     "metadata": {},
     "output_type": "execute_result"
    }
   ],
   "source": [
    "# Question 2\n",
    "# B)\n",
    "POPSTAR[3]"
   ]
  },
  {
   "cell_type": "code",
   "execution_count": 12,
   "id": "723369dc",
   "metadata": {},
   "outputs": [
    {
     "data": {
      "text/plain": [
       "'K'"
      ]
     },
     "execution_count": 12,
     "metadata": {},
     "output_type": "execute_result"
    }
   ],
   "source": [
    "# Question 2\n",
    "# C)\n",
    "POPSTAR[10]\n"
   ]
  },
  {
   "cell_type": "code",
   "execution_count": 9,
   "id": "8db5f0a7",
   "metadata": {},
   "outputs": [
    {
     "data": {
      "text/plain": [
       "'DRIZZY'"
      ]
     },
     "execution_count": 9,
     "metadata": {},
     "output_type": "execute_result"
    }
   ],
   "source": [
    "# Question 2\n",
    "# d)\n",
    "POPSTAR[0:6]"
   ]
  },
  {
   "cell_type": "code",
   "execution_count": 15,
   "id": "7c9b535d",
   "metadata": {},
   "outputs": [
    {
     "data": {
      "text/plain": [
       "'DRAKE'"
      ]
     },
     "execution_count": 15,
     "metadata": {},
     "output_type": "execute_result"
    }
   ],
   "source": [
    "POPSTAR[7:12]"
   ]
  },
  {
   "cell_type": "code",
   "execution_count": 27,
   "id": "d4247c24",
   "metadata": {},
   "outputs": [
    {
     "data": {
      "text/plain": [
       "'I'"
      ]
     },
     "execution_count": 27,
     "metadata": {},
     "output_type": "execute_result"
    }
   ],
   "source": [
    "# Question 3a\n",
    "POPSTAR = \"DRIZZY DRAKE\"\n",
    "POPSTAR[-7]\n",
    "POPSTAR[-10]"
   ]
  },
  {
   "cell_type": "code",
   "execution_count": 21,
   "id": "d6ba9740",
   "metadata": {},
   "outputs": [
    {
     "data": {
      "text/plain": [
       "'R'"
      ]
     },
     "execution_count": 21,
     "metadata": {},
     "output_type": "execute_result"
    }
   ],
   "source": [
    "# Question 3b\n",
    "POPSTAR[-4]"
   ]
  },
  {
   "cell_type": "code",
   "execution_count": 25,
   "id": "8c485f07",
   "metadata": {},
   "outputs": [
    {
     "data": {
      "text/plain": [
       "'A'"
      ]
     },
     "execution_count": 25,
     "metadata": {},
     "output_type": "execute_result"
    }
   ],
   "source": [
    "# Question 3c\n",
    "POPSTAR[-3]"
   ]
  },
  {
   "cell_type": "code",
   "execution_count": 62,
   "id": "ee47ea03",
   "metadata": {},
   "outputs": [
    {
     "data": {
      "text/plain": [
       "''"
      ]
     },
     "execution_count": 62,
     "metadata": {},
     "output_type": "execute_result"
    }
   ],
   "source": [
    "# Question 3d\n",
    "POPSTAR[-4:0]"
   ]
  },
  {
   "cell_type": "code",
   "execution_count": 38,
   "id": "af3b83f7",
   "metadata": {},
   "outputs": [
    {
     "data": {
      "text/plain": [
       "'MMAMNAIY'"
      ]
     },
     "execution_count": 38,
     "metadata": {},
     "output_type": "execute_result"
    }
   ],
   "source": [
    "# Question 4a\n",
    "SUCCESS= \"MAMBA MENTALITY\"\n",
    "SUCCESS[::2]"
   ]
  },
  {
   "cell_type": "code",
   "execution_count": 39,
   "id": "116f60a7",
   "metadata": {},
   "outputs": [
    {
     "data": {
      "text/plain": [
       "'MMAMN'"
      ]
     },
     "execution_count": 39,
     "metadata": {},
     "output_type": "execute_result"
    }
   ],
   "source": [
    "# Question 4b\n",
    "SUCCESS[0:10:2]"
   ]
  },
  {
   "cell_type": "code",
   "execution_count": 42,
   "id": "0bba01ef",
   "metadata": {},
   "outputs": [
    {
     "data": {
      "text/plain": [
       "'MA'"
      ]
     },
     "execution_count": 42,
     "metadata": {},
     "output_type": "execute_result"
    }
   ],
   "source": [
    "# Question 4c\n",
    "SUCCESS[2:5:2]"
   ]
  },
  {
   "cell_type": "code",
   "execution_count": 51,
   "id": "401fe1e0",
   "metadata": {},
   "outputs": [
    {
     "data": {
      "text/plain": [
       "' NL'"
      ]
     },
     "execution_count": 51,
     "metadata": {},
     "output_type": "execute_result"
    }
   ],
   "source": [
    "# Question 4d\n",
    "SUCCESS[5:12:3]"
   ]
  },
  {
   "cell_type": "code",
   "execution_count": 52,
   "id": "5156e6be",
   "metadata": {},
   "outputs": [
    {
     "data": {
      "text/plain": [
       "'A TT'"
      ]
     },
     "execution_count": 52,
     "metadata": {},
     "output_type": "execute_result"
    }
   ],
   "source": [
    "# Question 4e\n",
    "SUCCESS[1:14:4]"
   ]
  },
  {
   "cell_type": "code",
   "execution_count": 54,
   "id": "15caee5d",
   "metadata": {},
   "outputs": [
    {
     "data": {
      "text/plain": [
       "12"
      ]
     },
     "execution_count": 54,
     "metadata": {},
     "output_type": "execute_result"
    }
   ],
   "source": [
    "# Question 5a&b\n",
    "BOOK= \"HARRY POTTER\"\n",
    "len(BOOK)"
   ]
  },
  {
   "cell_type": "code",
   "execution_count": 10,
   "id": "5d7cbc7f",
   "metadata": {},
   "outputs": [
    {
     "data": {
      "text/plain": [
       "'HARRY POTTER IS A BESTSELLER'"
      ]
     },
     "execution_count": 10,
     "metadata": {},
     "output_type": "execute_result"
    }
   ],
   "source": [
    "# Question 6a\n",
    "BOOK= \"HARRY POTTER\"\n",
    "COMMENT= \"IS A BESTSELLER\"\n",
    "New_String=BOOK+\" \"+COMMENT\n",
    "New_String"
   ]
  },
  {
   "cell_type": "code",
   "execution_count": 9,
   "id": "1f7d281e",
   "metadata": {},
   "outputs": [
    {
     "data": {
      "text/plain": [
       "'HARRY POTTER IS A BESTSELLER AND J.K ROWLING IS A GENIUS'"
      ]
     },
     "execution_count": 9,
     "metadata": {},
     "output_type": "execute_result"
    }
   ],
   "source": [
    "# Question 6b\n",
    "New_String = New_String + \" AND J.K ROWLING IS A GENIUS\"\n",
    "New_String"
   ]
  },
  {
   "cell_type": "code",
   "execution_count": 13,
   "id": "d922167f",
   "metadata": {},
   "outputs": [
    {
     "data": {
      "text/plain": [
       "'SALE!SALE!SALE!SALE!SALE!SALE!SALE!SALE!SALE!'"
      ]
     },
     "execution_count": 13,
     "metadata": {},
     "output_type": "execute_result"
    }
   ],
   "source": [
    "# Question 7\n",
    "\"SALE!\"*9"
   ]
  },
  {
   "cell_type": "code",
   "execution_count": 23,
   "id": "58423ebe",
   "metadata": {},
   "outputs": [
    {
     "data": {
      "text/plain": [
       "'NEVER GIVE UP!YOU MUST TRY AGAIN AND AGAIN AND AGAIN AND AGAIN AND AGAIN AND AGAIN UNTIL YOU SUCCEED!'"
      ]
     },
     "execution_count": 23,
     "metadata": {},
     "output_type": "execute_result"
    }
   ],
   "source": [
    "# Question 8\n",
    "\"NEVER GIVE UP!\" + \"YOU MUST TRY\"+ 5*\" AGAIN AND\"+ \" AGAIN UNTIL YOU SUCCEED!\""
   ]
  },
  {
   "cell_type": "code",
   "execution_count": 25,
   "id": "d2b11279",
   "metadata": {},
   "outputs": [
    {
     "data": {
      "text/plain": [
       "'MIDDLE CHILDREN HAVE IT THE WORST!'"
      ]
     },
     "execution_count": 25,
     "metadata": {},
     "output_type": "execute_result"
    }
   ],
   "source": [
    "# Question 9\n",
    "Siblings= \"Middle children have it the worst!\"\n",
    "Siblings2 = Siblings.upper()\n",
    "Siblings2"
   ]
  },
  {
   "cell_type": "code",
   "execution_count": 27,
   "id": "21ee8def",
   "metadata": {},
   "outputs": [
    {
     "data": {
      "text/plain": [
       "'Middle children have it the best!'"
      ]
     },
     "execution_count": 27,
     "metadata": {},
     "output_type": "execute_result"
    }
   ],
   "source": [
    "# Question 10\n",
    "Siblings3 = Siblings.replace(\"worst\", \"best\")\n",
    "Siblings3"
   ]
  },
  {
   "cell_type": "code",
   "execution_count": 28,
   "id": "8120dc4a",
   "metadata": {},
   "outputs": [
    {
     "data": {
      "text/plain": [
       "3"
      ]
     },
     "execution_count": 28,
     "metadata": {},
     "output_type": "execute_result"
    }
   ],
   "source": [
    "# Question 11a\n",
    "truth= \"We can do anything we set our minds to\"\n",
    "truth.find(\"can\")\n"
   ]
  },
  {
   "cell_type": "code",
   "execution_count": 29,
   "id": "4d6c458c",
   "metadata": {},
   "outputs": [
    {
     "data": {
      "text/plain": [
       "30"
      ]
     },
     "execution_count": 29,
     "metadata": {},
     "output_type": "execute_result"
    }
   ],
   "source": [
    "# Question 11b\n",
    "truth.find('minds')"
   ]
  },
  {
   "cell_type": "code",
   "execution_count": 30,
   "id": "91776bce",
   "metadata": {},
   "outputs": [
    {
     "data": {
      "text/plain": [
       "-1"
      ]
     },
     "execution_count": 30,
     "metadata": {},
     "output_type": "execute_result"
    }
   ],
   "source": [
    "# Question 12\n",
    "truth.find('believe')"
   ]
  },
  {
   "cell_type": "code",
   "execution_count": 31,
   "id": "30e6bad5",
   "metadata": {},
   "outputs": [
    {
     "name": "stdout",
     "output_type": "stream",
     "text": [
      "JENNIFER LOPEZ\n",
      "IS AN AWESOME DANCER!\n"
     ]
    }
   ],
   "source": [
    "# Question 13\n",
    "print('JENNIFER LOPEZ\\nIS AN AWESOME DANCER!')"
   ]
  },
  {
   "cell_type": "code",
   "execution_count": 33,
   "id": "99b86161",
   "metadata": {},
   "outputs": [
    {
     "name": "stdout",
     "output_type": "stream",
     "text": [
      "colour --->\tpurple\n"
     ]
    }
   ],
   "source": [
    "# Question 14\n",
    "print('colour --->\\tpurple')"
   ]
  },
  {
   "cell_type": "code",
   "execution_count": 35,
   "id": "146eb55c",
   "metadata": {},
   "outputs": [
    {
     "name": "stdout",
     "output_type": "stream",
     "text": [
      "The backslash\\is so cool\n"
     ]
    }
   ],
   "source": [
    "# Question 15\n",
    "print('The backslash\\\\is so cool')"
   ]
  },
  {
   "cell_type": "code",
   "execution_count": null,
   "id": "73bfe236",
   "metadata": {},
   "outputs": [],
   "source": []
  }
 ],
 "metadata": {
  "kernelspec": {
   "display_name": "Python 3 (ipykernel)",
   "language": "python",
   "name": "python3"
  },
  "language_info": {
   "codemirror_mode": {
    "name": "ipython",
    "version": 3
   },
   "file_extension": ".py",
   "mimetype": "text/x-python",
   "name": "python",
   "nbconvert_exporter": "python",
   "pygments_lexer": "ipython3",
   "version": "3.9.13"
  }
 },
 "nbformat": 4,
 "nbformat_minor": 5
}
